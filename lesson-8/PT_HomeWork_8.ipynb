{
 "cells": [
  {
   "cell_type": "markdown",
   "metadata": {},
   "source": [
    "# Задание 1"
   ]
  },
  {
   "cell_type": "code",
   "execution_count": 2,
   "metadata": {},
   "outputs": [],
   "source": [
    "import numpy as np\n",
    "y = np.array([[2.68, 3.29, 2.88, 4.45],\n",
    "              [4.12, 4.96, 5.09, 5.22],\n",
    "              [5.52, 4.50, 5.42, 5.29]])"
   ]
  },
  {
   "cell_type": "code",
   "execution_count": 3,
   "metadata": {},
   "outputs": [
    {
     "data": {
      "text/plain": [
       "4.451666666666666"
      ]
     },
     "execution_count": 3,
     "metadata": {},
     "output_type": "execute_result"
    }
   ],
   "source": [
    "y_mean = y.mean()\n",
    "y_mean"
   ]
  },
  {
   "cell_type": "code",
   "execution_count": 9,
   "metadata": {},
   "outputs": [],
   "source": [
    "m, k = 3, 4\n",
    "\n",
    "SS_a = k * ( (y[0, :].mean() - y_mean) ** 2 + (y[1, :].mean() - y_mean) ** 2 + (y[2, :].mean() - y_mean) ** 2)\n",
    "SS_b = m * ( (y[:, 0].mean() - y_mean) ** 2 + (y[:, 1].mean() - y_mean) ** 2 + (y[:, 2].mean() - y_mean) ** 2 + (y[:, 3].mean() - y_mean) ** 2)"
   ]
  },
  {
   "cell_type": "code",
   "execution_count": 19,
   "metadata": {},
   "outputs": [],
   "source": [
    "def SS_w():\n",
    "    res = 0\n",
    "    for i in range(m):\n",
    "        for j in range(k):\n",
    "            res += (y[i, j] - y[i, :].mean() - y[:, j].mean() + y_mean) ** 2\n",
    "    return res"
   ]
  },
  {
   "cell_type": "code",
   "execution_count": 20,
   "metadata": {},
   "outputs": [
    {
     "data": {
      "text/plain": [
       "(3.9203583333333327, 0.4460555555555563, 0.32164722222222214)"
      ]
     },
     "execution_count": 20,
     "metadata": {},
     "output_type": "execute_result"
    }
   ],
   "source": [
    "sigma_a2 = SS_a / (m - 1)\n",
    "sigma_b2 = SS_b / (k - 1)\n",
    "sigma_w2 = SS_w() / ((k-1)*(m-1))\n",
    "sigma_a2, sigma_b2, sigma_w2"
   ]
  },
  {
   "cell_type": "code",
   "execution_count": 22,
   "metadata": {},
   "outputs": [
    {
     "data": {
      "text/plain": [
       "(12.188379262995173, 1.386785038819275)"
      ]
     },
     "execution_count": 22,
     "metadata": {},
     "output_type": "execute_result"
    }
   ],
   "source": [
    "F_a = sigma_a2 / sigma_w2\n",
    "F_b = sigma_b2 / sigma_w2\n",
    "F_a, F_b"
   ]
  },
  {
   "cell_type": "code",
   "execution_count": 27,
   "metadata": {},
   "outputs": [
    {
     "data": {
      "text/plain": [
       "(4.25649472909375, 4.06618055135116)"
      ]
     },
     "execution_count": 27,
     "metadata": {},
     "output_type": "execute_result"
    }
   ],
   "source": [
    "from scipy import stats\n",
    "\n",
    "alpha = 0.05\n",
    "n = m * k\n",
    "\n",
    "t_a = stats.f.ppf(1 - alpha, m - 1, n - m)\n",
    "t_b = stats.f.ppf(1 - alpha, k - 1, n - k)\n",
    "\n",
    "t_a, t_b"
   ]
  },
  {
   "cell_type": "markdown",
   "metadata": {},
   "source": [
    "##### Статитсика F_a ппопала в критическую область, мы отвергаем гипотезу о равнозначности средних y по параметру a; статистика F_b не попвлв в критическую область, мы принимаем гипотезу о равнозначных средних y по параметру b"
   ]
  }
 ],
 "metadata": {
  "kernelspec": {
   "display_name": "Python 3",
   "language": "python",
   "name": "python3"
  },
  "language_info": {
   "codemirror_mode": {
    "name": "ipython",
    "version": 3
   },
   "file_extension": ".py",
   "mimetype": "text/x-python",
   "name": "python",
   "nbconvert_exporter": "python",
   "pygments_lexer": "ipython3",
   "version": "3.6.8"
  }
 },
 "nbformat": 4,
 "nbformat_minor": 2
}
