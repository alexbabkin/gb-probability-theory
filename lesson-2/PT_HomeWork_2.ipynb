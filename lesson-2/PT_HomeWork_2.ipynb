{
 "cells": [
  {
   "cell_type": "markdown",
   "metadata": {},
   "source": [
    "# Задание 1"
   ]
  },
  {
   "cell_type": "markdown",
   "metadata": {},
   "source": [
    "#### Случайная величина X - число правильных ответов. Она распределена по биномиальному закону. n=5 - число вопросов, p=1/4 вероятность угадать ответ."
   ]
  },
  {
   "cell_type": "markdown",
   "metadata": {},
   "source": [
    "#### Формула Бернули в данном случае выглядит следующим образом: P(X=k) = C(n,k) * p^k * (1-p)^(n-k) = C(5, k) * 0.25^k * 0.75^(5-k)"
   ]
  },
  {
   "cell_type": "code",
   "execution_count": 5,
   "metadata": {},
   "outputs": [],
   "source": [
    "from scipy import special as spc\n",
    "def C_n_k(n, k):\n",
    "    return spc.factorial(n) / (spc.factorial(k) * spc.factorial(n-k))"
   ]
  },
  {
   "cell_type": "code",
   "execution_count": 19,
   "metadata": {},
   "outputs": [],
   "source": [
    "def calc_bin_prob(number_of_rights):\n",
    "    return C_n_k(5, number_of_rights) * (0.25 ** number_of_rights) * (0.75 ** (5 - number_of_rights))"
   ]
  },
  {
   "cell_type": "code",
   "execution_count": 22,
   "metadata": {},
   "outputs": [
    {
     "name": "stdout",
     "output_type": "stream",
     "text": [
      "[(0, 0.2373046875), (1, 0.3955078125), (2, 0.263671875), (3, 0.087890625), (4, 0.0146484375), (5, 0.0009765625)]\n"
     ]
    }
   ],
   "source": [
    "distr = [(k, calc_bin_prob(k)) for k in range(6)]\n",
    "print(distr)"
   ]
  },
  {
   "cell_type": "markdown",
   "metadata": {},
   "source": [
    "#### характеристики распределения M(X) = np = 5/4; D(X) = np(1-p) = 5/4 * 3/4 = 15/16"
   ]
  },
  {
   "cell_type": "markdown",
   "metadata": {},
   "source": [
    "# Задание 2"
   ]
  },
  {
   "cell_type": "markdown",
   "metadata": {},
   "source": [
    "#### В данном случае вероятность получить N писем со спамом распделена по закону Пуасона.Заданим функцию:"
   ]
  },
  {
   "cell_type": "code",
   "execution_count": 28,
   "metadata": {},
   "outputs": [],
   "source": [
    "import math\n",
    "def puasson(l, k):\n",
    "    return (l ** k) * (math.e ** -l) / spc.factorial(k)"
   ]
  },
  {
   "cell_type": "markdown",
   "metadata": {},
   "source": [
    "#### l = M(x) = 10"
   ]
  },
  {
   "cell_type": "markdown",
   "metadata": {},
   "source": [
    "#### вероятность получить не более N писем со спамом - сумма по k от 0 до N. Зададим формулу."
   ]
  },
  {
   "cell_type": "code",
   "execution_count": 45,
   "metadata": {},
   "outputs": [],
   "source": [
    "import numpy as np\n",
    "def calc_puasson_prob(l, n):\n",
    "    probs = [puasson(l, i) for i in range(n+1)]\n",
    "    return np.array(probs).sum()"
   ]
  },
  {
   "cell_type": "markdown",
   "metadata": {},
   "source": [
    "#### Найдем требуемое N подбором"
   ]
  },
  {
   "cell_type": "code",
   "execution_count": 46,
   "metadata": {},
   "outputs": [
    {
     "data": {
      "text/plain": [
       "[(0, 4.5399929762484875e-05),\n",
       " (1, 0.0004993992273873337),\n",
       " (2, 0.002769395715511577),\n",
       " (3, 0.010336050675925723),\n",
       " (4, 0.02925268807696109),\n",
       " (5, 0.06708596287903182),\n",
       " (6, 0.13014142088248304),\n",
       " (7, 0.22022064660169907),\n",
       " (8, 0.3328196787507191),\n",
       " (9, 0.4579297144718525),\n",
       " (10, 0.5830397501929858),\n",
       " (11, 0.696776146303107),\n",
       " (12, 0.7915564763948747),\n",
       " (13, 0.8644644226193114),\n",
       " (14, 0.9165415270653376),\n",
       " (15, 0.9512595966960218),\n",
       " (16, 0.9729583902151994),\n",
       " (17, 0.9857223864029508),\n",
       " (18, 0.9928134953961462),\n",
       " (19, 0.9965456580241436)]"
      ]
     },
     "execution_count": 46,
     "metadata": {},
     "output_type": "execute_result"
    }
   ],
   "source": [
    "[(i, calc_puasson_prob(10, i)) for i in range(20)]"
   ]
  },
  {
   "cell_type": "markdown",
   "metadata": {},
   "source": [
    "#### Искомое N = 15"
   ]
  },
  {
   "cell_type": "markdown",
   "metadata": {},
   "source": [
    "# Задание 3"
   ]
  },
  {
   "cell_type": "markdown",
   "metadata": {},
   "source": [
    "#### В данном случае иммеем биномиальное распределение. Однако учитывая малую вероятность попадания и количество требуемых попаданий, можно предположить, что n будет достаточно велико, что позволяет апроксимировать распределение распределением Пуассона"
   ]
  },
  {
   "cell_type": "markdown",
   "metadata": {},
   "source": [
    "#### P(X>=k) = 1 - P(X<k) = 1 - sum(calc_puasson_prob(l, i)), где l = n * p = n * 0.01"
   ]
  },
  {
   "cell_type": "markdown",
   "metadata": {},
   "source": [
    "#### Таким образом имеем равенство 0.01 = sum(calc_puasson_prob(n * 0.01, i). Задаим функцию вычисляющую правую часть"
   ]
  },
  {
   "cell_type": "code",
   "execution_count": 48,
   "metadata": {},
   "outputs": [],
   "source": [
    "def calc_right_part(n):\n",
    "    l = n * 0.01\n",
    "    probs = [puasson(l, i) for i in range(5)]\n",
    "    return np.array(probs).sum()"
   ]
  },
  {
   "cell_type": "markdown",
   "metadata": {},
   "source": [
    "#### Построим график зависимости от n:"
   ]
  },
  {
   "cell_type": "code",
   "execution_count": 67,
   "metadata": {},
   "outputs": [
    {
     "data": {
      "image/png": "[encoded data removed]",
      "text/plain": [
       "<Figure size 432x288 with 1 Axes>"
      ]
     },
     "metadata": {
      "needs_background": "light"
     },
     "output_type": "display_data"
    }
   ],
   "source": [
    "ns = range(1150, 1180)\n",
    "right = []\n",
    "left = []\n",
    "for n in ns:\n",
    "    right.append(calc_right_part(n))\n",
    "    left.append(0.01)\n",
    "\n",
    "from matplotlib import pyplot as plt\n",
    "plt.scatter(ns, right, s=10)\n",
    "plt.scatter(ns, left, s=10)\n",
    "plt.show()"
   ]
  },
  {
   "cell_type": "code",
   "execution_count": 68,
   "metadata": {},
   "outputs": [
    {
     "data": {
      "text/plain": [
       "[(1150, 0.010746578383282804),\n",
       " (1151, 0.010672995305144886),\n",
       " (1152, 0.010599890775952163),\n",
       " (1153, 0.010527261902552605),\n",
       " (1154, 0.010455105807380453),\n",
       " (1155, 0.01038341962838913),\n",
       " (1156, 0.010312200518984184),\n",
       " (1157, 0.010241445647956454),\n",
       " (1158, 0.01017115219941536),\n",
       " (1159, 0.010101317372722284),\n",
       " (1160, 0.010031938382424142),\n",
       " (1161, 0.009963012458187046),\n",
       " (1162, 0.009894536844730151),\n",
       " (1163, 0.009826508801759642),\n",
       " (1164, 0.00975892560390279),\n",
       " (1165, 0.00969178454064226),\n",
       " (1166, 0.009625082916250489),\n",
       " (1167, 0.009558818049724246),\n",
       " (1168, 0.009492987274719339),\n",
       " (1169, 0.009427587939485435),\n",
       " (1170, 0.009362617406801072),\n",
       " (1171, 0.009298073053908843),\n",
       " (1172, 0.00923395227245064),\n",
       " (1173, 0.00917025246840314),\n",
       " (1174, 0.00910697106201342),\n",
       " (1175, 0.00904410548773472),\n",
       " (1176, 0.00898165319416236),\n",
       " (1177, 0.00891961164396984),\n",
       " (1178, 0.00885797831384506),\n",
       " (1179, 0.008796750694426734)]"
      ]
     },
     "execution_count": 68,
     "metadata": {},
     "output_type": "execute_result"
    }
   ],
   "source": [
    "[(i, calc_right_part(i)) for i in range(1150, 1180)]"
   ]
  },
  {
   "cell_type": "markdown",
   "metadata": {},
   "source": [
    "#### Искомое N = 1160"
   ]
  }
 ],
 "metadata": {
  "kernelspec": {
   "display_name": "Python 3",
   "language": "python",
   "name": "python3"
  },
  "language_info": {
   "codemirror_mode": {
    "name": "ipython",
    "version": 3
   },
   "file_extension": ".py",
   "mimetype": "text/x-python",
   "name": "python",
   "nbconvert_exporter": "python",
   "pygments_lexer": "ipython3",
   "version": "3.6.8"
  }
 },
 "nbformat": 4,
 "nbformat_minor": 2
}
