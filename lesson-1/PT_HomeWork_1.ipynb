{
 "cells": [
  {
   "cell_type": "markdown",
   "metadata": {},
   "source": [
    "# Задание 1"
   ]
  },
  {
   "cell_type": "code",
   "execution_count": 4,
   "metadata": {},
   "outputs": [],
   "source": [
    "import numpy as np"
   ]
  },
  {
   "cell_type": "markdown",
   "metadata": {},
   "source": [
    "#### зададим функцию считающую количество благоприяствующих исходов в зависимости от числа опытов"
   ]
  },
  {
   "cell_type": "code",
   "execution_count": 5,
   "metadata": {},
   "outputs": [],
   "source": [
    "def get_statistic_probability(n):\n",
    "    a = np.random.randint(1, 6, size=n)\n",
    "    b = np.random.randint(1, 6, size=n)\n",
    "    c = np.random.randint(1, 6, size=n)\n",
    "    s = a + b + c\n",
    "    num_of_less_equal_than_6 = (s <= 6).sum()\n",
    "    return num_of_less_equal_than_6/n\n"
   ]
  },
  {
   "cell_type": "markdown",
   "metadata": {},
   "source": [
    "#### вычислим относительную частоту для некоторого набора числа опытов "
   ]
  },
  {
   "cell_type": "code",
   "execution_count": 6,
   "metadata": {},
   "outputs": [
    {
     "data": {
      "text/plain": [
       "[0.1, 0.16, 0.15, 0.1571, 0.16333, 0.160171, 0.1601037]"
      ]
     },
     "execution_count": 6,
     "metadata": {},
     "output_type": "execute_result"
    }
   ],
   "source": [
    "n_values = np.array([10, 10**2, 10**3, 10**4, 10**5, 10**6, 10**7])\n",
    "prob_values = []\n",
    "for n in n_values:\n",
    "    prob_values.append(get_statistic_probability(n))    \n",
    "prob_values"
   ]
  },
  {
   "cell_type": "markdown",
   "metadata": {},
   "source": [
    "#### видим, что относительная чстота с ростом числа опытов стемится к некоторому значению в районе 0.16"
   ]
  },
  {
   "cell_type": "markdown",
   "metadata": {},
   "source": [
    "# Задание 2"
   ]
  },
  {
   "cell_type": "markdown",
   "metadata": {},
   "source": [
    "#### зададим функцию считающую количество сочетиний"
   ]
  },
  {
   "cell_type": "code",
   "execution_count": 29,
   "metadata": {},
   "outputs": [],
   "source": [
    "from scipy import special as spc\n",
    "def C_n_k(n, k):\n",
    "    return spc.factorial(n) / (spc.factorial(k) * spc.factorial(n-k))"
   ]
  },
  {
   "cell_type": "markdown",
   "metadata": {},
   "source": [
    "#### зададим функцию считающую количество возможностей вытянуть 4 карты с количеством тузов заданных в качестве параметра "
   ]
  },
  {
   "cell_type": "code",
   "execution_count": 30,
   "metadata": {},
   "outputs": [],
   "source": [
    "def combinations(num_of_aces):\n",
    "    # число возможностей вытянуть заданное количество тузов из 4х возможных\n",
    "    c_a = C_n_k(4, num_of_aces)\n",
    "    # осталось вытянуть ненузов\n",
    "    num_of_not_aces = 4 - num_of_aces\n",
    "    # число возможностей вытянуть нетузы\n",
    "    c_na = C_n_k(52 - 4, num_of_not_aces)\n",
    "    # итоговое число комбинаций есть произведение\n",
    "    return c_a * c_na "
   ]
  },
  {
   "cell_type": "markdown",
   "metadata": {},
   "source": [
    "#### суммируем все комбинайции с количеством тузов от 1 до 4"
   ]
  },
  {
   "cell_type": "code",
   "execution_count": 31,
   "metadata": {},
   "outputs": [
    {
     "name": "stdout",
     "output_type": "stream",
     "text": [
      "76145.0\n"
     ]
    }
   ],
   "source": [
    "result = combinations(1) + combinations(2) + combinations(3) + combinations(4)\n",
    "print(result)"
   ]
  },
  {
   "cell_type": "markdown",
   "metadata": {},
   "source": [
    "# Задание 3"
   ]
  },
  {
   "cell_type": "markdown",
   "metadata": {},
   "source": [
    "#### число способов вытянуть 3 вопроса из 50 известных"
   ]
  },
  {
   "cell_type": "code",
   "execution_count": 39,
   "metadata": {},
   "outputs": [],
   "source": [
    "c3 = C_n_k(50, 3)"
   ]
  },
  {
   "cell_type": "markdown",
   "metadata": {},
   "source": [
    "#### число способов вытянуть 3 вопроса из всех 60"
   ]
  },
  {
   "cell_type": "code",
   "execution_count": 53,
   "metadata": {},
   "outputs": [],
   "source": [
    "c0 = C_n_k(60, 3)"
   ]
  },
  {
   "cell_type": "markdown",
   "metadata": {},
   "source": [
    "#### вероятность"
   ]
  },
  {
   "cell_type": "code",
   "execution_count": 54,
   "metadata": {},
   "outputs": [
    {
     "name": "stdout",
     "output_type": "stream",
     "text": [
      "0.5727644652250147\n"
     ]
    }
   ],
   "source": [
    "p3 = c3 / c0\n",
    "print(p3)"
   ]
  },
  {
   "cell_type": "markdown",
   "metadata": {},
   "source": [
    "#### число способов вытянуть 2 вопроса из 50 известных"
   ]
  },
  {
   "cell_type": "code",
   "execution_count": 55,
   "metadata": {},
   "outputs": [],
   "source": [
    "c2 = C_n_k(50, 2)"
   ]
  },
  {
   "cell_type": "markdown",
   "metadata": {},
   "source": [
    "#### число способов вытянуть 2 известных вопроса и 1 неизвестный"
   ]
  },
  {
   "cell_type": "code",
   "execution_count": 56,
   "metadata": {},
   "outputs": [],
   "source": [
    "c2 = c2 * 10"
   ]
  },
  {
   "cell_type": "markdown",
   "metadata": {},
   "source": [
    "#### вероятность"
   ]
  },
  {
   "cell_type": "code",
   "execution_count": 57,
   "metadata": {},
   "outputs": [
    {
     "name": "stdout",
     "output_type": "stream",
     "text": [
      "0.3579777907656342\n"
     ]
    }
   ],
   "source": [
    "p2 = c2 / c0\n",
    "print(p2)"
   ]
  },
  {
   "cell_type": "markdown",
   "metadata": {},
   "source": [
    "# Задание 4"
   ]
  },
  {
   "cell_type": "markdown",
   "metadata": {},
   "source": [
    "#### p1 - вероятность выпадения честного чсла, p2 - вероятность выпадения числа больше 3 (4, 5, 6)"
   ]
  },
  {
   "cell_type": "code",
   "execution_count": 62,
   "metadata": {},
   "outputs": [],
   "source": [
    "p1 = 1/2\n",
    "p2 = 3/6"
   ]
  },
  {
   "cell_type": "markdown",
   "metadata": {},
   "source": [
    "#### p12 - вероятность выпадения четного числа больше трех (4, 6)"
   ]
  },
  {
   "cell_type": "code",
   "execution_count": 66,
   "metadata": {},
   "outputs": [],
   "source": [
    "p12 = 2/6"
   ]
  },
  {
   "cell_type": "markdown",
   "metadata": {},
   "source": [
    "#### p1_2 = p(1|2)"
   ]
  },
  {
   "cell_type": "code",
   "execution_count": 68,
   "metadata": {},
   "outputs": [
    {
     "name": "stdout",
     "output_type": "stream",
     "text": [
      "False\n"
     ]
    }
   ],
   "source": [
    "p1_2 = p12/p2\n",
    "print(p1_2==p1)"
   ]
  },
  {
   "cell_type": "markdown",
   "metadata": {},
   "source": [
    "#### события зависимы (наверное можно интерпретировать так - при значениях больше 3, больше четных исходов - 4, 6, при значениях меньше либо равных 3 - только 2)"
   ]
  },
  {
   "cell_type": "markdown",
   "metadata": {},
   "source": [
    "# Задание 5"
   ]
  },
  {
   "cell_type": "markdown",
   "metadata": {},
   "source": [
    "#### событие A - мы больны, событие B - тест верен. p(a|b)p(b) = p(b|a)p(a). Мы больны, при условии, что тест верен:  p(a|b) = p(b|a) * p(a) / p(b) = p(b|a) * p(a) / [p(b|a) * p(a) + p(b|^a) * p(^a)]. Где ^a - не А, то есть мы не больны, а p(b|^a) - ложно положительный тест "
   ]
  },
  {
   "cell_type": "code",
   "execution_count": 72,
   "metadata": {},
   "outputs": [
    {
     "name": "stdout",
     "output_type": "stream",
     "text": [
      "0.09016393442622951\n"
     ]
    }
   ],
   "source": [
    "p = (0.99*0.001) / (0.99 * 0.001 + 0.01 * 0.999)\n",
    "print(p)"
   ]
  }
 ],
 "metadata": {
  "kernelspec": {
   "display_name": "Python 3",
   "language": "python",
   "name": "python3"
  },
  "language_info": {
   "codemirror_mode": {
    "name": "ipython",
    "version": 3
   },
   "file_extension": ".py",
   "mimetype": "text/x-python",
   "name": "python",
   "nbconvert_exporter": "python",
   "pygments_lexer": "ipython3",
   "version": "3.6.8"
  }
 },
 "nbformat": 4,
 "nbformat_minor": 2
}
